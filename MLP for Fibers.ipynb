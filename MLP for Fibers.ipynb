{
 "cells": [
  {
   "cell_type": "markdown",
   "metadata": {},
   "source": [
    "# Multilayer Perceptron for Fibers\n",
    "Using a simple MLP to classify the given cropped images as fibers/no fibers."
   ]
  },
  {
   "cell_type": "code",
   "execution_count": 1,
   "metadata": {},
   "outputs": [
    {
     "name": "stderr",
     "output_type": "stream",
     "text": [
      "Using TensorFlow backend.\n"
     ]
    }
   ],
   "source": [
    "import numpy as np\n",
    "import matplotlib.pyplot as plt \n",
    "from os.path import join\n",
    "from skimage import color, io, morphology, img_as_ubyte, feature, exposure, filters, util\n",
    "from skimage.filters import frangi, hessian\n",
    "import pandas as pd\n",
    "# some import statements\n",
    "from keras.models import Sequential\n",
    "from keras.layers import Dense\n",
    "from keras.utils import to_categorical\n",
    "from skimage import exposure\n",
    "from sklearn.metrics import confusion_matrix\n"
   ]
  },
  {
   "cell_type": "markdown",
   "metadata": {},
   "source": [
    "# Insert Paths to Predict HERE\n",
    "**INSERT HERE THE APPROPRIATE PATHS FOR THE IMAGE LOCATIONS YOU WISH TO PREDICT**\n",
    "\n",
    "That is, the predictions occur after the training of the MLP."
   ]
  },
  {
   "cell_type": "code",
   "execution_count": 14,
   "metadata": {},
   "outputs": [],
   "source": [
    "# INSERT HEREEEEE\n",
    "fibers_predict= io.ImageCollection(\"Data/yes_fib25k/*.tif\")\n",
    "nofibers_predict = io.ImageCollection(\"Data/no_fib25k/*.tif\") \n",
    "size_fib = len(fibers_predict)\n",
    "size_nofib = len(nofibers_predict)"
   ]
  },
  {
   "cell_type": "markdown",
   "metadata": {},
   "source": [
    "### Auxiliary Functions\n",
    "We define an MLP that learns a problem resonably well. We model it using a softmax activation function on the output layer. Meaning that the model will predict a vector with 2 elements with the probablity that the sample belongs to each of those 2 classes. Therefore, the first step is to one-hot-encode the class values."
   ]
  },
  {
   "cell_type": "markdown",
   "metadata": {},
   "source": [
    "\n",
    "We process data in this general way. Past the point of the generation of the model, we make predictions with new data."
   ]
  },
  {
   "cell_type": "code",
   "execution_count": 3,
   "metadata": {},
   "outputs": [],
   "source": [
    "# Label Creation\n",
    "\n",
    "def create_labels(present_size, absent_size):\n",
    "    \n",
    "    \"\"\"\n",
    "    Creation of class labels per sizes:\n",
    "\n",
    "    input1: length of 1's: fiber present\n",
    "    input2: length of 0's: fiber absent\n",
    "    returns: two lists of 1's and 0's\n",
    "    \n",
    "    \"\"\"\n",
    "    ones= np.ones(present_size).tolist()\n",
    "    zeros = np.zeros(absent_size).tolist()\n",
    "    \n",
    "    labels = ones + zeros\n",
    "        \n",
    "    return labels"
   ]
  },
  {
   "cell_type": "code",
   "execution_count": 4,
   "metadata": {},
   "outputs": [],
   "source": [
    "def equalize_images(present_fiber, absent_fiber):\n",
    "    \"\"\"\n",
    "    \n",
    "    Using Histogram Equalizer to Standarize Images\n",
    "    \n",
    "    input1: image collection of present fibers\n",
    "    input2: image collection of absent fibers\n",
    "    returns: two lists containing all equalized imgs\n",
    "    \n",
    "    \"\"\"\n",
    "    equalized_fib = []\n",
    "    equalized_nofib = []\n",
    "    \n",
    "    for idx in range(np.size(present_fiber.files)):\n",
    "        f = exposure.equalize_hist(present_fiber[idx].flatten())\n",
    "        equalized_fib.append(f)\n",
    "        nf = exposure.equalize_hist(absent_fiber[idx].flatten())\n",
    "        equalized_nofib.append(nf)\n",
    "        \n",
    "    return equalized_fib, equalized_nofib"
   ]
  },
  {
   "cell_type": "code",
   "execution_count": 5,
   "metadata": {},
   "outputs": [],
   "source": [
    "# Make Matrix\n",
    "\n",
    "def create_matrix_shuffle(fib_equalized, nofib_equalized):\n",
    "    \"\"\"\n",
    "    With Equalized Images we concatenate the Dataframes + labels\n",
    "    \n",
    "    input1: equalized images list(present fib)\n",
    "    input2: equalized images list (absent fib)\n",
    "    return: matrix of shuffled labels containing data\n",
    "    \n",
    "    \"\"\"\n",
    "    first = pd.DataFrame(fib_equalized)\n",
    "    second = pd.DataFrame(nofib_equalized)\n",
    "    list_frames = [first, second]\n",
    "                                \n",
    "    matrix_fibers = pd.concat(list_frames, ignore_index=True)\n",
    "    matrix_fibers['Labels'] = create_labels(len(fib_equalized), len(nofib_equalized))\n",
    "    \n",
    "    # shuffling\n",
    "    matrix_shuffled = matrix_fibers.sample(frac=1).reset_index(drop=True)\n",
    "    \n",
    "    return matrix_shuffled"
   ]
  },
  {
   "cell_type": "markdown",
   "metadata": {},
   "source": [
    "#### Defining Model\n",
    "We define and combine the model. Model expects samples with 255 input variables the model has a single hidden layer with __ nodes and a rectified linear activation function (relu), then an output layer with 2 nodes to predict the probability each of the 2 classes, and a softmax activation function."
   ]
  },
  {
   "cell_type": "code",
   "execution_count": 6,
   "metadata": {},
   "outputs": [],
   "source": [
    "def mlp_model():\n",
    "    \n",
    "    model = Sequential()\n",
    "    model.add(Dense(300, input_dim = 256, activation = 'relu'))\n",
    "    model.add(Dense(2, activation = 'softmax'))\n",
    "    model.compile(loss = 'categorical_crossentropy', optimizer = 'adam', metrics = ['accuracy'])\n",
    "    \n",
    "    return model"
   ]
  },
  {
   "cell_type": "code",
   "execution_count": 7,
   "metadata": {},
   "outputs": [],
   "source": [
    "def visual_training(history):\n",
    "    f, (ax1, ax2) = plt.subplots(1,2, figsize=(10,8))\n",
    "    ax1.plot([None] + history.history['acc'], 'o-')\n",
    "    ax1.plot([None] + history.history['val_acc'], 'x-')\n",
    "\n",
    "    # Plot legend and use the best location automatically loc = 0\n",
    "    ax1.legend(['Train acc', 'Validation acc'], loc =0)\n",
    "    ax1.set_title(\"Training/Validation acc per Epoch\")\n",
    "    ax1.set_xlabel(\"Epoch\")\n",
    "    ax1.set_ylabel(\"acc\")\n",
    "    \n",
    "    ax2.plot([None] + history.history['loss'], 'o-')\n",
    "    ax2.plot([None] + history.history['val_loss'], 'x-')\n",
    "\n",
    "    # Plot legend and use the best location automatically: loc = 0\n",
    "    ax2.legend(['Train Loss', 'Validation Loss'], loc = 0)\n",
    "    ax2.set_title(\"Training/Validation Loss per Epoch\")\n",
    "    ax2.set_xlabel(\"Epoch\")\n",
    "    ax2.set_ylabel(\"Loss\")"
   ]
  },
  {
   "cell_type": "code",
   "execution_count": 8,
   "metadata": {},
   "outputs": [],
   "source": [
    "def conf_matrix(y, predictions):\n",
    "    cm= confusion_matrix(y.argmax(axis=1), predictions.argmax(axis=1))\n",
    "    FP = cm[0,1]\n",
    "    FN = cm[1,0]\n",
    "    TP = cm[1,1]\n",
    "    TN = cm[0,0]\n",
    "\n",
    "    # Sensitivity, hit rate, recall, or true positive rat\n",
    "    TPR = TP/(TP+FN)\n",
    "        # Specificity or true negative rate\n",
    "    TNR = TN/(TN+FP)\n",
    "        # Precision or positive predictive value\n",
    "    PPV = TP/(TP+FP)\n",
    "        # Negative predictive value\n",
    "    NPV = TN/(TN+FN)\n",
    "        # Fall out or false positive rate\n",
    "    FPR = FP/(FP+TN)\n",
    "        # False negative rate\n",
    "    FNR = FN/(TP+FN)\n",
    "        # False discovery rate\n",
    "    FDR = FP/(TP+FP)\n",
    "\n",
    "        # Overall accuracy\n",
    "    ACC = (TP+TN)/(TP+FP+FN+TN)\n",
    "    all_results = {'Sensitivity': TPR, 'Specificity': TNR, 'Precision': PPV,\n",
    "                  'Neg. Pred Rate': NPV, 'False Pos. Rate': FPR,\n",
    "                  'False Neg. Rate': FNR, 'False Discovery Rate:': FDR,\n",
    "                  'Accuracy': ACC}\n",
    "    \n",
    "    frame_results = pd.DataFrame(list(all_results.items()), columns = ['Measure', 'Rates'])\n",
    "    \n",
    "    return frame_results, cm"
   ]
  },
  {
   "cell_type": "markdown",
   "metadata": {},
   "source": [
    "_____________________________________________________________________________________________________________________\n",
    "---------------------------------------------------------------------------------------------------------------------"
   ]
  },
  {
   "cell_type": "markdown",
   "metadata": {},
   "source": [
    "## The Main Call\n",
    "MLP workflow (where the training). This model is trained with 1400 images. Testing with 600. We make predictions after the workflow cell."
   ]
  },
  {
   "cell_type": "markdown",
   "metadata": {},
   "source": [
    "#### Load Data"
   ]
  },
  {
   "cell_type": "code",
   "execution_count": 9,
   "metadata": {},
   "outputs": [],
   "source": [
    "# import image collections\n",
    "ic_fiber = io.ImageCollection(\"Data/yes_fibers1k/*.tif\", conserve_memory = True) # 1000 images of fibers\n",
    "ic_nofiber = io.ImageCollection(\"Data/no_fibers1k/*.tif\", conserve_memory = True) # 1000 images of no_fibers"
   ]
  },
  {
   "cell_type": "markdown",
   "metadata": {},
   "source": [
    "#### Helpful Variables"
   ]
  },
  {
   "cell_type": "code",
   "execution_count": 10,
   "metadata": {},
   "outputs": [
    {
     "name": "stdout",
     "output_type": "stream",
     "text": [
      "1000   1000\n"
     ]
    }
   ],
   "source": [
    "# sanity check for length of collections\n",
    "percent_to_split = 0.7\n",
    "fib_size = np.size(ic_fiber.files)\n",
    "nofib_size = np.size(ic_nofiber.files)\n",
    "print(fib_size, ' ', nofib_size)"
   ]
  },
  {
   "cell_type": "markdown",
   "metadata": {},
   "source": [
    "#### Labeling, standarization, matrix, (X,y) definition, and Data Splitting"
   ]
  },
  {
   "cell_type": "code",
   "execution_count": 11,
   "metadata": {},
   "outputs": [
    {
     "name": "stdout",
     "output_type": "stream",
     "text": [
      "WARNING:tensorflow:From /Users/mirasilvia/anaconda3/lib/python3.7/site-packages/tensorflow/python/framework/op_def_library.py:263: colocate_with (from tensorflow.python.framework.ops) is deprecated and will be removed in a future version.\n",
      "Instructions for updating:\n",
      "Colocations handled automatically by placer.\n",
      "WARNING:tensorflow:From /Users/mirasilvia/anaconda3/lib/python3.7/site-packages/tensorflow/python/ops/math_ops.py:3066: to_int32 (from tensorflow.python.ops.math_ops) is deprecated and will be removed in a future version.\n",
      "Instructions for updating:\n",
      "Use tf.cast instead.\n"
     ]
    },
    {
     "name": "stderr",
     "output_type": "stream",
     "text": [
      "/Users/mirasilvia/anaconda3/lib/python3.7/site-packages/ipykernel_launcher.py:9: FutureWarning: Method .as_matrix will be removed in a future version. Use .values instead.\n",
      "  if __name__ == '__main__':\n"
     ]
    },
    {
     "name": "stdout",
     "output_type": "stream",
     "text": [
      "Train on 1400 samples, validate on 600 samples\n",
      "Epoch 1/6\n",
      "1400/1400 [==============================] - 0s 183us/step - loss: 0.1420 - acc: 0.9414 - val_loss: 0.0237 - val_acc: 0.9983\n",
      "Epoch 2/6\n",
      "1400/1400 [==============================] - 0s 61us/step - loss: 0.0210 - acc: 0.9986 - val_loss: 0.0097 - val_acc: 0.9983\n",
      "Epoch 3/6\n",
      "1400/1400 [==============================] - 0s 64us/step - loss: 0.0173 - acc: 0.9979 - val_loss: 0.0121 - val_acc: 0.9983\n",
      "Epoch 4/6\n",
      "1400/1400 [==============================] - 0s 64us/step - loss: 0.0182 - acc: 0.9979 - val_loss: 0.0057 - val_acc: 1.0000\n",
      "Epoch 5/6\n",
      "1400/1400 [==============================] - 0s 65us/step - loss: 0.0172 - acc: 0.9979 - val_loss: 0.0037 - val_acc: 1.0000\n",
      "Epoch 6/6\n",
      "1400/1400 [==============================] - 0s 62us/step - loss: 0.0207 - acc: 0.9943 - val_loss: 0.0090 - val_acc: 0.9983\n",
      "600/600 [==============================] - 0s 22us/step\n",
      "Test loss 0.0090, accuracy 99.83%\n"
     ]
    }
   ],
   "source": [
    "# step 1: equalize images (with histogram_equalizer) and label\n",
    "hist_f, hist_nf = equalize_images(ic_fiber, ic_nofiber) #takes both image collections\n",
    "\n",
    "# step 2: matrix creation \n",
    "mat = create_matrix_shuffle(hist_f, hist_nf) # generates labels\n",
    "\n",
    "# step 3: introduction of X,y\n",
    "relevant_cols = len(mat.columns)-1\n",
    "X = mat.as_matrix(columns= mat.columns[:relevant_cols])\n",
    "y = mat['Labels']\n",
    "\n",
    "# one-hot-encode\n",
    "y = to_categorical(y)\n",
    "\n",
    "# step 4:  Data Splitting\n",
    "n_train = int(percent_to_split * X.shape[0])\n",
    "trainX, testX = X[:n_train, :], X[n_train:, :]\n",
    "trainy, testy = y[:n_train], y[n_train:]\n",
    "\n",
    "# step 5: create model (mlp)\n",
    "model = mlp_model()\n",
    "\n",
    "# step 6: fit model\n",
    "history = model.fit(trainX, trainy, validation_data = (testX, testy), epochs=6, verbose = 1)\n",
    "\n",
    "# step 7: evaluate the model\n",
    "test_score = model.evaluate(testX, testy)\n",
    "print(\"Test loss {:.4f}, accuracy {:.2f}%\".format(test_score[0], \n",
    "                                                  test_score[1] *100))"
   ]
  },
  {
   "cell_type": "markdown",
   "metadata": {},
   "source": [
    "#### Visualize the Training Process\n",
    "We will visualize the trainig process by plotting the training accuracy and loss after each epoch."
   ]
  },
  {
   "cell_type": "code",
   "execution_count": 12,
   "metadata": {},
   "outputs": [
    {
     "data": {
      "image/png": "[encoded data removed]",
      "text/plain": [
       "<Figure size 720x576 with 2 Axes>"
      ]
     },
     "metadata": {
      "needs_background": "light"
     },
     "output_type": "display_data"
    }
   ],
   "source": [
    "visual_training(history)"
   ]
  },
  {
   "cell_type": "markdown",
   "metadata": {},
   "source": [
    "## Making Predictions\n",
    "We proceed to make predictions using the model we've trained. The following cells utilize the global variables inputted before the training of the model above. Below you will find your results.\n",
    "\n",
    "Workflow for making predictions: Similar as above, except that in this case, the paths to image collections to predict have been established at the beginning of this notebook as: 'fibers_predict', 'nofibers_predict'."
   ]
  },
  {
   "cell_type": "code",
   "execution_count": 13,
   "metadata": {},
   "outputs": [
    {
     "name": "stderr",
     "output_type": "stream",
     "text": [
      "/Users/mirasilvia/anaconda3/lib/python3.7/site-packages/ipykernel_launcher.py:7: FutureWarning: Method .as_matrix will be removed in a future version. Use .values instead.\n",
      "  import sys\n"
     ]
    },
    {
     "data": {
      "text/html": [
       "<div>\n",
       "<style scoped>\n",
       "    .dataframe tbody tr th:only-of-type {\n",
       "        vertical-align: middle;\n",
       "    }\n",
       "\n",
       "    .dataframe tbody tr th {\n",
       "        vertical-align: top;\n",
       "    }\n",
       "\n",
       "    .dataframe thead th {\n",
       "        text-align: right;\n",
       "    }\n",
       "</style>\n",
       "<table border=\"1\" class=\"dataframe\">\n",
       "  <thead>\n",
       "    <tr style=\"text-align: right;\">\n",
       "      <th></th>\n",
       "      <th>Measure</th>\n",
       "      <th>Rates</th>\n",
       "    </tr>\n",
       "  </thead>\n",
       "  <tbody>\n",
       "    <tr>\n",
       "      <th>0</th>\n",
       "      <td>Sensitivity</td>\n",
       "      <td>0.990800</td>\n",
       "    </tr>\n",
       "    <tr>\n",
       "      <th>1</th>\n",
       "      <td>Specificity</td>\n",
       "      <td>1.000000</td>\n",
       "    </tr>\n",
       "    <tr>\n",
       "      <th>2</th>\n",
       "      <td>Precision</td>\n",
       "      <td>1.000000</td>\n",
       "    </tr>\n",
       "    <tr>\n",
       "      <th>3</th>\n",
       "      <td>Neg. Pred Rate</td>\n",
       "      <td>0.990884</td>\n",
       "    </tr>\n",
       "    <tr>\n",
       "      <th>4</th>\n",
       "      <td>False Pos. Rate</td>\n",
       "      <td>0.000000</td>\n",
       "    </tr>\n",
       "    <tr>\n",
       "      <th>5</th>\n",
       "      <td>False Neg. Rate</td>\n",
       "      <td>0.009200</td>\n",
       "    </tr>\n",
       "    <tr>\n",
       "      <th>6</th>\n",
       "      <td>False Discovery Rate:</td>\n",
       "      <td>0.000000</td>\n",
       "    </tr>\n",
       "    <tr>\n",
       "      <th>7</th>\n",
       "      <td>Accuracy</td>\n",
       "      <td>0.995400</td>\n",
       "    </tr>\n",
       "  </tbody>\n",
       "</table>\n",
       "</div>"
      ],
      "text/plain": [
       "                 Measure     Rates\n",
       "0            Sensitivity  0.990800\n",
       "1            Specificity  1.000000\n",
       "2              Precision  1.000000\n",
       "3         Neg. Pred Rate  0.990884\n",
       "4        False Pos. Rate  0.000000\n",
       "5        False Neg. Rate  0.009200\n",
       "6  False Discovery Rate:  0.000000\n",
       "7               Accuracy  0.995400"
      ]
     },
     "execution_count": 13,
     "metadata": {},
     "output_type": "execute_result"
    }
   ],
   "source": [
    "# we prep and randomize the data\n",
    "equal_fib, equal_nofib = equalize_images(fibers_predict, nofibers_predict)\n",
    "matrix_pred = create_matrix_shuffle(equal_fib, equal_nofib)\n",
    "\n",
    "# redefining X and y\n",
    "cols_pred = len(matrix_pred.columns)-1\n",
    "X_p = matrix_pred.as_matrix(columns=mat.columns[:cols_pred])\n",
    "y_p =matrix_pred['Labels']\n",
    "\n",
    "# one-hot-encode\n",
    "y_p = to_categorical(y_p)\n",
    "\n",
    "# making predictions\n",
    "pred = model.predict(X_p)\n",
    "pred = (pred > 0.5)\n",
    "\n",
    "# How did we do?\n",
    "data_frame, confusion_mat = conf_matrix(y_p, pred)\n",
    "data_frame"
   ]
  },
  {
   "cell_type": "markdown",
   "metadata": {},
   "source": [
    "## Conclusion:\n",
    "Already having high accuracy with a simple Multi Layer Perceptron. \n",
    "- We trained with 1400 images, and validated with remaining 600, to get an accuracy of 98% for test data.\n",
    "- Proceeded to make predicitons with 5000 images, and again we obtained high rate of ~99%. \n",
    "\n",
    "**What's next?**\n",
    "Recreate this notebook with a neater frame work so that you can construct/add layers/alter the architecture in case you want to pass in future data. \n",
    "Given that you already have results. Save this but revise and reframe later :)\n",
    "\n"
   ]
  },
  {
   "cell_type": "code",
   "execution_count": null,
   "metadata": {},
   "outputs": [],
   "source": []
  }
 ],
 "metadata": {
  "kernelspec": {
   "display_name": "Python 3",
   "language": "python",
   "name": "python3"
  },
  "language_info": {
   "codemirror_mode": {
    "name": "ipython",
    "version": 3
   },
   "file_extension": ".py",
   "mimetype": "text/x-python",
   "name": "python",
   "nbconvert_exporter": "python",
   "pygments_lexer": "ipython3",
   "version": "3.7.3"
  }
 },
 "nbformat": 4,
 "nbformat_minor": 2
}
